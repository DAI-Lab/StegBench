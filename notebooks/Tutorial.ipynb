{
 "cells": [
  {
   "cell_type": "markdown",
   "metadata": {},
   "source": [
    "### StegTest File Sysstem \n",
    "\n",
    "StegTest depends on file-system assets to be present. This allows StegTest to keep track of datasets and current algorithms for image-hiding and image-detection that have been loaded into the system. \n",
    "\n",
    "Initialize will create all the necessary assets in the current working directory. <b>Remember that you must initialize stegtest in the directory that you wish to use it in</b>.\n",
    "\n",
    "The file system for StegTest looks like the following:\n",
    "\n",
    "```\n",
    "stegtest_assets/\n",
    "├── db/ \n",
    "|   ├── datasets/\n",
    "│   └── metadata/\n",
    "|   ├── source.csv\n",
    "│   └── embedded.csv\n",
    "├── embeddor <b>Contains all embeddor-related assets</b>\n",
    "|   ├── sets\n",
    "│   └── assets\n",
    "|   ├── embeddors.csv\n",
    "├── detector <b>Contains all detector-related assets</b>\n",
    "|   ├── sets\n",
    "│   └── assets\n",
    "|   ├── detectors.csv\n",
    "```\n",
    "\n",
    "##### Database File Structure\n",
    "\n",
    "The database directory (db) contains all database-related assets and images. It is composed of the following:\n",
    "\n",
    "- <b>datasets:</b> Contains all the raw image files when they are processed/downloaded.\n",
    "- <b>metadata:</b> Contains metadata about the image files that are downloaded \n",
    "- <b>source.csv</b> Contains information on the source databases\n",
    "- <b>embedded.csv</b> Contains information on the steganographic databases \n",
    "\n",
    "##### Embeddor File Structure\n",
    "\n",
    "The embeddor directory (embeddor) contains all embeddor-related assets. It is composed of the following: \n",
    "\n",
    "- <b>sets:</b> Contains information on embeddor sets (covered in later part of tutorial)\n",
    "- <b>assets:</b> Contains assets needed for embedding\n",
    "- <b>embeddors.csv</b> Contains information on embeddors in system \n",
    "\n",
    "##### Detector File Structure\n",
    "\n",
    "The detector directory (detectr) contains all detector-related assets. It is composed of the following:\n",
    "\n",
    "- <b>sets:</b> Contains information on detector sets (covered in laber part of tutorial)\n",
    "- <b>assets:</b> Contaiins assets needed for detection \n",
    "- <b>detectors.csv</b> Contains informatin on detectors in system \n",
    "\n",
    "\n",
    "### UUID\n",
    "\n",
    "In our system, all assets are kept track with a UUID, or in other words, a unique identifier. A UUID is assigned to databases, embeddors, and detectors. We will require UUIDs in the next few steps. The information command lets us find out the UUID for each of these assets so that we can properly use them in our code. \n",
    "\n",
    "An example UUID is: e1d5d46e-6763-4083-a88f-1c2d3f02776e. They follow standard UUIDv4 specifications. "
   ]
  },
  {
   "cell_type": "code",
   "execution_count": 7,
   "metadata": {},
   "outputs": [],
   "source": [
    "import stegtest as stegtest"
   ]
  },
  {
   "cell_type": "markdown",
   "metadata": {},
   "source": [
    "### Initializing StegTest\n",
    "\n",
    "To initialize this file structure, we call the following command: \n",
    "\n",
    "```python\n",
    "stegtest.initialize()\n",
    "```\n",
    "\n",
    "This initializes the stegtest_asset directory desribed above in your current working directory. "
   ]
  },
  {
   "cell_type": "code",
   "execution_count": null,
   "metadata": {},
   "outputs": [],
   "source": [
    "stegtest.initialize()"
   ]
  },
  {
   "cell_type": "markdown",
   "metadata": {},
   "source": [
    "### Loading the Data\n",
    "\n",
    "#### Downloading Data from Pre-Specified Sources \n",
    "\n",
    "We provide a set of routines to download from. There are several options for these routines available to you. They are listed in the parameter description below. \n",
    "\n",
    "```python\n",
    "stegtest.download(name_of_routine, name_of_database)\n",
    "```\n",
    "\n",
    "- <b>name_of_routine</b>(str): The options are 'ALASKA', 'BOSS', 'BOWS2', 'COCO_Val', 'COCO_Test', 'COCO_Train', 'DIV2K_VALID', 'DIV2K_TRAIN' \n",
    "- <b>name_of_database</b>(str): Specify a user-friendly name for the database "
   ]
  },
  {
   "cell_type": "code",
   "execution_count": null,
   "metadata": {},
   "outputs": [],
   "source": [
    "COCO_database_id = stegtest.download('COCO_Val', 'COCO_Val')\n",
    "print(COCO_database_id)"
   ]
  },
  {
   "cell_type": "markdown",
   "metadata": {},
   "source": [
    "#### Loading a Custom Dataset\n",
    "\n",
    "We also provide the option to process a custom dataset into the system. This dataset must already be downloaded onto your machine. To process this dataset, you call the function below with a path to the directory as well as a user-supplied name. \n",
    "\n",
    "```python\n",
    "stegtest.process(path_to_data_directory, name_of_database)\n",
    "```\n",
    "\n",
    "- <b>path_to_data_directory</b>(str): This is the path to the directory that contain the images.\n",
    "- <b>name_of_database</b>(str): Specify a user-friendly name for the database "
   ]
  },
  {
   "cell_type": "code",
   "execution_count": 4,
   "metadata": {},
   "outputs": [
    {
     "name": "stdout",
     "output_type": "stream",
     "text": [
      "applying following operations: dict_keys([])\n",
      "The UUID of the dataset(s) you have processed is: b5ad0bfa-6b4f-448d-a4f1-668ff0cc741b\n"
     ]
    }
   ],
   "source": [
    "TOY_database_id = stegtest.process('example_dataset/', 'Toy Dataset')"
   ]
  },
  {
   "cell_type": "markdown",
   "metadata": {},
   "source": [
    "## Configuration Files \n",
    "\n",
    "Stegtest works by processing configuration files that contain information about each of the algorithms in the system. This allows StegTest to be a highly interoperable and modular system that can easily integrate into existing steganographic pipelines. \n",
    "\n",
    "### Embeddor Configuration \n",
    "\n",
    "<b>PLEASE READ [CONFIGURATION.md](../CONFIGURATION.md) LOCATED IN THE TOP-LEVEL DIRECTORY FOR A MORE COMPREHENSIVE REVIEW</b>\n",
    "\n",
    "These configurations are stored in .ini files located on your machine. To load a configuration, we use the function:\n",
    "\n",
    "```python\n",
    "stegtest.add_config(config=[config_file_paths], directory=[config_directory_paths])\n",
    "```\n",
    "\n",
    "This function takes two parameters that are:\n",
    "\n",
    "- <b>config</b>(list). List of paths to configuration files. \n",
    "- <b>directory</b>(list): List of paths to directories that contain configuration files. Useful for batch processing. \n",
    "\n",
    "Let us load an embeddor configuration file now. "
   ]
  },
  {
   "cell_type": "code",
   "execution_count": null,
   "metadata": {},
   "outputs": [],
   "source": [
    "stegtest.add_config(config=['../example_configs/configs/embeddor/spatial-based.ini'])"
   ]
  },
  {
   "cell_type": "markdown",
   "metadata": {},
   "source": [
    "### Detector Configuration\n",
    "\n",
    "<b>PLEASE READ [CONFIGURATION.md](../CONFIGURATION.md) LOCATED IN THE TOP-LEVEL DIRECTORY FOR A MORE COMPREHENSIVE REVIEW</b>\n",
    "\n",
    "To load a detector configuration, we use the same function as before. In this case, let us load configurations from two different directories that contain configuration files. Please note that detectors come in two varieties: \n",
    "\n",
    "- <b>Classification Detectors</b>: These output a yes/no decision on if an image is steganographic or not.\n",
    "- <b>Probabilistic Detectors</b>: These output a probability that an image is steganographic or not. \n"
   ]
  },
  {
   "cell_type": "code",
   "execution_count": null,
   "metadata": {
    "scrolled": true
   },
   "outputs": [],
   "source": [
    "stegtest.add_config(directory=['../example_configs/configs/detector_csfc/', '../example_configs/configs/detector_prob/'])"
   ]
  },
  {
   "cell_type": "markdown",
   "metadata": {},
   "source": [
    "## System Information\n",
    "\n",
    "Now that we have processed enough data, we would like to see information about what is currently in our system. To do this, stegtest provides the following command\n",
    "\n",
    "```python\n",
    "stegtest.info(all=True, database=True, embeddor=True, detector=True)\n",
    "```\n",
    "\n",
    "The parameters to this function are the following:\n",
    "\n",
    "- <b>all</b>(bool): If true, all system information will be printed.\n",
    "- <b>database</b>(bool): If true, all database information will be printed. \n",
    "- <b>embeddor</b>(bool): If true, all embeddor information will be printed.\n",
    "- <b>detector</b>(bool): If true, all detector information will be printed. "
   ]
  },
  {
   "cell_type": "code",
   "execution_count": null,
   "metadata": {},
   "outputs": [],
   "source": [
    "stegtest.info(all=True, database=True, embeddor=True, detector=True)"
   ]
  },
  {
   "cell_type": "markdown",
   "metadata": {},
   "source": [
    "## Algorithm Sets\n",
    "\n",
    "StegTest uses ... \n",
    "\n",
    "### Embeddor Set\n",
    "\n",
    "tbd"
   ]
  },
  {
   "cell_type": "code",
   "execution_count": null,
   "metadata": {},
   "outputs": [],
   "source": [
    "embeddor_set = stegtest.add_embeddor(embeddor=TBD)\n",
    "stegtest.add_embeddor(embeddor=TBD, uuid=embeddor_set)"
   ]
  },
  {
   "cell_type": "markdown",
   "metadata": {},
   "source": [
    "### Detector Set\n",
    "\n",
    "tbd"
   ]
  },
  {
   "cell_type": "code",
   "execution_count": null,
   "metadata": {},
   "outputs": [],
   "source": [
    "detector_set = stegtest.add_detector(detector=TBD)\n",
    "stegtest.add_detector(detector=TBD, uuid=detector_set)"
   ]
  },
  {
   "cell_type": "markdown",
   "metadata": {},
   "source": [
    "## Steganographic Database Generation\n",
    "\n",
    "tbd"
   ]
  },
  {
   "cell_type": "code",
   "execution_count": null,
   "metadata": {},
   "outputs": [],
   "source": [
    "stegtest.embed(embeddor_set=embeddor_set, database=TOY_database_id, ratio=0.5, name='STEGANOGRAPHIC DATABASE')"
   ]
  },
  {
   "cell_type": "markdown",
   "metadata": {},
   "source": [
    "## Testing out StegDetectors\n",
    "\n",
    "tbd"
   ]
  },
  {
   "cell_type": "code",
   "execution_count": null,
   "metadata": {},
   "outputs": [],
   "source": [
    "stegtest.detect(detector, database)"
   ]
  }
 ],
 "metadata": {
  "kernelspec": {
   "display_name": "Python 3",
   "language": "python",
   "name": "python3"
  },
  "language_info": {
   "codemirror_mode": {
    "name": "ipython",
    "version": 3
   },
   "file_extension": ".py",
   "mimetype": "text/x-python",
   "name": "python",
   "nbconvert_exporter": "python",
   "pygments_lexer": "ipython3",
   "version": "3.6.4"
  }
 },
 "nbformat": 4,
 "nbformat_minor": 2
}
