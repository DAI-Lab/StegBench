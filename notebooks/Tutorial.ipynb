{
 "cells": [
  {
   "cell_type": "markdown",
   "metadata": {},
   "source": [
    "## Prerequisites\n",
    "\n",
    "\n",
    "Before using this tutorial, ensure that the following are on your system:\n",
    "- <b>StegTest is installed.</b> Install via make install\n",
    "- <b>Steganography Tools are on your system</b>. Installed locally or installed via bin/install_assets.sh\n",
    "- <b>StegDetect Tools are on your system</b>. Installed locally or installed via bin/intall_assets.sh\n",
    "\n",
    "We have provided a script at bin/install_assets.sh. This script will install known steganography and steganalysis tools. It will help you get started more quickly. You can run this with: \n",
    "\n",
    "```\n",
    "bash bin/install_assets.sh\n",
    "```\n",
    "\n",
    "It is suggested that if you are using machine-learning based tools like SteganoGAN or StegDetect that you use:\n",
    "- <b>CUDA enabled device.</b> Cloud computing resources can be used to access these devices\n"
   ]
  },
  {
   "cell_type": "markdown",
   "metadata": {},
   "source": [
    "### StegTest File Sysstem \n",
    "\n",
    "StegTest depends on file-system assets to be present. This allows StegTest to keep track of datasets and current algorithms for image-hiding and image-detection that have been loaded into the system. \n",
    "\n",
    "Initialize will create all the necessary assets in the current working directory. <b>Remember that you must initialize stegtest in the directory that you wish to use it in</b>.\n",
    "\n",
    "The file system for StegTest looks like the following:\n",
    "\n",
    "```\n",
    "stegtest_assets/\n",
    "├── db/ \n",
    "|   ├── datasets/\n",
    "│   └── metadata/\n",
    "|   ├── source.csv\n",
    "│   └── embedded.csv\n",
    "├── embeddor <b>Contains all embeddor-related assets</b>\n",
    "|   ├── sets\n",
    "│   └── assets\n",
    "|   ├── embeddors.csv\n",
    "├── detector <b>Contains all detector-related assets</b>\n",
    "|   ├── sets\n",
    "│   └── assets\n",
    "|   ├── detectors.csv\n",
    "```\n",
    "\n",
    "##### Database File Structure\n",
    "\n",
    "The database directory (db) contains all database-related assets and images. It is composed of the following:\n",
    "\n",
    "- <b>datasets:</b> Contains all the raw image files when they are processed/downloaded.\n",
    "- <b>metadata:</b> Contains metadata about the image files that are downloaded \n",
    "- <b>source.csv</b> Contains information on the source databases\n",
    "- <b>embedded.csv</b> Contains information on the steganographic databases \n",
    "\n",
    "##### Embeddor File Structure\n",
    "\n",
    "The embeddor directory (embeddor) contains all embeddor-related assets. It is composed of the following: \n",
    "\n",
    "- <b>sets:</b> Contains information on embeddor sets (covered in later part of tutorial)\n",
    "- <b>assets:</b> Contains assets needed for embedding\n",
    "- <b>embeddors.csv</b> Contains information on embeddors in system \n",
    "\n",
    "##### Detector File Structure\n",
    "\n",
    "The detector directory (detectr) contains all detector-related assets. It is composed of the following:\n",
    "\n",
    "- <b>sets:</b> Contains information on detector sets (covered in laber part of tutorial)\n",
    "- <b>assets:</b> Contaiins assets needed for detection \n",
    "- <b>detectors.csv</b> Contains informatin on detectors in system \n",
    "\n",
    "\n",
    "### UUID\n",
    "\n",
    "In our system, all assets are kept track with a UUID, or in other words, a unique identifier. A UUID is assigned to databases, embeddors, and detectors. We will require UUIDs in the next few steps. The information command lets us find out the UUID for each of these assets so that we can properly use them in our code. \n",
    "\n",
    "An example UUID is: e1d5d46e-6763-4083-a88f-1c2d3f02776e. They follow standard UUIDv4 specifications. "
   ]
  },
  {
   "cell_type": "code",
   "execution_count": 2,
   "metadata": {},
   "outputs": [],
   "source": [
    "import stegtest as stegtest"
   ]
  },
  {
   "cell_type": "markdown",
   "metadata": {},
   "source": [
    "## Step 1. Initializing StegTest\n",
    "\n",
    "To initialize this file structure, we call the following command: \n",
    "\n",
    "```python\n",
    "stegtest.initialize()\n",
    "```\n",
    "\n",
    "This initializes the stegtest_asset directory desribed above in your current working directory. "
   ]
  },
  {
   "cell_type": "code",
   "execution_count": 19,
   "metadata": {},
   "outputs": [
    {
     "name": "stdout",
     "output_type": "stream",
     "text": [
      "initializing fs at /Users/anene/Documents/MEng/Steganography/Evaluator/stegtest/notebooks\n",
      "cleaning fs...\n",
      "initializing directories...\n",
      "initializing all files...\n"
     ]
    }
   ],
   "source": [
    "stegtest.initialize()"
   ]
  },
  {
   "cell_type": "markdown",
   "metadata": {},
   "source": [
    "## Step 2. Loading the Data\n",
    "\n",
    "### 2A: Downloading Data from Pre-Specified Sources \n",
    "\n",
    "We provide a set of routines to download from. There are several options for these routines available to you. They are listed in the parameter description below. \n",
    "\n",
    "```python\n",
    "stegtest.download(name_of_routine, name_of_database)\n",
    "```\n",
    "\n",
    "- <b>name_of_routine</b>(str): The options are 'ALASKA', 'BOSS', 'BOWS2', 'COCO_Val', 'COCO_Test', 'COCO_Train', 'DIV2K_VALID', 'DIV2K_TRAIN' \n",
    "- <b>name_of_database</b>(str): Specify a user-friendly name for the database "
   ]
  },
  {
   "cell_type": "code",
   "execution_count": null,
   "metadata": {},
   "outputs": [],
   "source": [
    "COCO_database_uuid = stegtest.download('COCO_Val', 'COCO_Val')"
   ]
  },
  {
   "cell_type": "markdown",
   "metadata": {},
   "source": [
    "### 2B: Loading a Custom Dataset\n",
    "\n",
    "We also provide the option to process a custom dataset into the system. This dataset must already be downloaded onto your machine. To process this dataset, you call the function below with a path to the directory as well as a user-supplied name. \n",
    "\n",
    "```python\n",
    "stegtest.process(path_to_data_directory, name_of_database)\n",
    "```\n",
    "\n",
    "- <b>path_to_data_directory</b>(str): This is the path to the directory that contain the images.\n",
    "- <b>name_of_database</b>(str): Specify a user-friendly name for the database "
   ]
  },
  {
   "cell_type": "code",
   "execution_count": 6,
   "metadata": {},
   "outputs": [
    {
     "name": "stdout",
     "output_type": "stream",
     "text": [
      "applying following operations: dict_keys([])\n",
      "The UUID of the dataset(s) you have processed is: 3f485829-7edc-44b8-9f35-a13f279d21ab\n"
     ]
    }
   ],
   "source": [
    "TOY_database_uuid = stegtest.process('example_dataset/', 'Toy Dataset')"
   ]
  },
  {
   "cell_type": "markdown",
   "metadata": {},
   "source": [
    "## Step 3. Loading Configuration Files \n",
    "\n",
    "Stegtest works by processing configuration files that contain information about each of the algorithms in the system. This allows StegTest to be a highly interoperable and modular system that can easily integrate into existing steganographic pipelines. \n",
    "\n",
    "<b>PLEASE NOTE THAT YOU WILL HAVE TO MODIFY THE CONFIGURATION FILES TO MATCH THE TOOLS AVAILABLE ON YOUR MACHINE. IF YOU DO NOT MODIFY THEM, THE SYSTEM WILL NOT PROPERLY BE ABLE TO USE YOUR TOOLS. DIRECTIONS AVAILABLE AT [CONFIGURATION.md](../CONFIGURATION.md) ON HOW TO CREATE A CONFIGURATION.</b>\n",
    "\n",
    "### 3A: Loading Embeddor Configuration \n",
    "\n",
    "<b>PLEASE READ [CONFIGURATION.md](../CONFIGURATION.md) LOCATED IN THE TOP-LEVEL DIRECTORY FOR A MORE COMPREHENSIVE REVIEW</b>\n",
    "\n",
    "These configurations are stored in .ini files located on your machine. To load a configuration, we use the function:\n",
    "\n",
    "```python\n",
    "stegtest.add_config(config=[config_file_paths], directory=[config_directory_paths])\n",
    "```\n",
    "\n",
    "This function takes two parameters that are:\n",
    "\n",
    "- <b>config</b>(list). List of paths to configuration files. \n",
    "- <b>directory</b>(list): List of paths to directories that contain configuration files. Useful for batch processing. \n",
    "\n",
    "Let us load an embeddor configuration file now. "
   ]
  },
  {
   "cell_type": "code",
   "execution_count": 21,
   "metadata": {},
   "outputs": [
    {
     "name": "stdout",
     "output_type": "stream",
     "text": [
      "starting processing of config file: /Users/anene/Documents/MEng/Steganography/Evaluator/stegtest/examples/configs/embeddor/spatial-based.ini\n",
      "processing of file complete\n"
     ]
    }
   ],
   "source": [
    "stegtest.add_config(config=['../examples/configs/embeddor/spatial-based.ini'])"
   ]
  },
  {
   "cell_type": "markdown",
   "metadata": {},
   "source": [
    "### 3B: Loading Detector Configuration\n",
    "\n",
    "<b>PLEASE READ [CONFIGURATION.md](../CONFIGURATION.md) LOCATED IN THE TOP-LEVEL DIRECTORY FOR A MORE COMPREHENSIVE REVIEW</b>\n",
    "\n",
    "To load a detector configuration, we use the same function as before. In this case, let us load configurations from two different directories that contain configuration files. Please note that detectors come in two varieties: \n",
    "\n",
    "- <b>Classification Detectors</b>: These output a yes/no decision on if an image is steganographic or not.\n",
    "- <b>Probabilistic Detectors</b>: These output a probability that an image is steganographic or not. \n"
   ]
  },
  {
   "cell_type": "code",
   "execution_count": 22,
   "metadata": {
    "scrolled": true
   },
   "outputs": [
    {
     "name": "stdout",
     "output_type": "stream",
     "text": [
      "processing config directory: ../examples/configs/detector_csfc/\n",
      "starting processing of config file: /Users/anene/Documents/MEng/Steganography/Evaluator/stegtest/examples/configs/detector_csfc/alethia.ini\n",
      "processing of file complete\n",
      "starting processing of config file: /Users/anene/Documents/MEng/Steganography/Evaluator/stegtest/examples/configs/detector_csfc/brute-based.ini\n",
      "processing of file complete\n",
      "starting processing of config file: /Users/anene/Documents/MEng/Steganography/Evaluator/stegtest/examples/configs/detector_csfc/dl-based.ini\n",
      "processing of file complete\n",
      "starting processing of config file: /Users/anene/Documents/MEng/Steganography/Evaluator/stegtest/examples/configs/detector_csfc/srm-based.ini\n",
      "processing of file complete\n",
      "processing of directory complete\n",
      "processing config directory: ../examples/configs/detector_prob/\n",
      "starting processing of config file: /Users/anene/Documents/MEng/Steganography/Evaluator/stegtest/examples/configs/detector_prob/dl-based.ini\n",
      "processing of file complete\n",
      "starting processing of config file: /Users/anene/Documents/MEng/Steganography/Evaluator/stegtest/examples/configs/detector_prob/srm-based.ini\n",
      "processing of file complete\n",
      "processing of directory complete\n"
     ]
    }
   ],
   "source": [
    "stegtest.add_config(directory=['../examples/configs/detector_csfc/', '../examples/configs/detector_prob/'])"
   ]
  },
  {
   "cell_type": "markdown",
   "metadata": {},
   "source": [
    "## Step 4. Retrieving System Information\n",
    "\n",
    "Now that we have processed enough data, we would like to see information about what is currently in our system. To do this, stegtest provides the following command\n",
    "\n",
    "```python\n",
    "stegtest.info(all=True, database=True, embeddor=True, detector=True)\n",
    "```\n",
    "\n",
    "The parameters to this function are the following:\n",
    "\n",
    "- <b>all</b>(bool): If true, all system information will be printed.\n",
    "- <b>database</b>(bool): If true, all database information will be printed. \n",
    "- <b>embeddor</b>(bool): If true, all embeddor information will be printed.\n",
    "- <b>detector</b>(bool): If true, all detector information will be printed. \n",
    "\n",
    "You shoud use this command to manually retrieve the UUID of the asset that you wish to choose in future operations. "
   ]
  },
  {
   "cell_type": "code",
   "execution_count": 23,
   "metadata": {},
   "outputs": [
    {
     "name": "stdout",
     "output_type": "stream",
     "text": [
      "Listing all requested information....\n",
      "----------------------------------------------------------------------------------------------------\n",
      "----------------------------------------------------------------------------------------------------\n",
      "All database information\n",
      "----------------------------------------------------------------------------------------------------\n",
      "----------------------------------------------------------------------------------------------------\n",
      "Source Databases processed: (1)\n",
      "\tToy Dataset\n",
      "\t\tUUID: 42464eee-d89c-488f-9986-11bc3f64e3f4\n",
      "\t\tDirectory path: /Users/anene/Documents/MEng/Steganography/Evaluator/stegtest/notebooks/example_dataset\n",
      "\t\tImage Count: 10\n",
      "\t\tImage Types: ['png']\n",
      "----------------------------------------------------------------------------------------------------\n",
      "Steganographic Databases processed: (0)\n",
      "----------------------------------------------------------------------------------------------------\n",
      "----------------------------------------------------------------------------------------------------\n",
      "All embeddor information\n",
      "----------------------------------------------------------------------------------------------------\n",
      "----------------------------------------------------------------------------------------------------\n",
      "Embeddors available: (9)\n",
      "\tLSBSteg\n",
      "\t\tUUID: 9398885f-170d-45be-a99a-e1b7d18ab582\n",
      "\t\tCompatible Types: ['png', 'bmp']\n",
      "\t\tMaximum Embedding Ratio: 0.5\n",
      "\t\tCommand Type: docker\n",
      "\tcloackedpixel\n",
      "\t\tUUID: b1891c3f-3c1e-46fb-9dc2-e2d2508aee26\n",
      "\t\tCompatible Types: ['png', 'pgm']\n",
      "\t\tMaximum Embedding Ratio: 0.5\n",
      "\t\tCommand Type: docker\n",
      "\tOpenStego\n",
      "\t\tUUID: 95e28e1d-3cb4-40d6-8467-7efc43c65d16\n",
      "\t\tCompatible Types: ['png']\n",
      "\t\tMaximum Embedding Ratio: 0.5\n",
      "\t\tCommand Type: docker\n",
      "\tSteganoLSB\n",
      "\t\tUUID: cad12efc-b51f-4103-b7a1-e1b34532a9d0\n",
      "\t\tCompatible Types: ['png']\n",
      "\t\tMaximum Embedding Ratio: 0.5\n",
      "\t\tCommand Type: docker\n",
      "\tSteganoLSB-Erathosthenes\n",
      "\t\tUUID: e7d3a3c6-f3a6-4268-87d6-895ee1d81395\n",
      "\t\tCompatible Types: ['png']\n",
      "\t\tMaximum Embedding Ratio: 0.065\n",
      "\t\tCommand Type: docker\n",
      "\tHUGO\n",
      "\t\tUUID: db969d31-1315-4bac-b089-08fa5bad3174\n",
      "\t\tCompatible Types: ['png', 'pgm']\n",
      "\t\tMaximum Embedding Ratio: 0.5\n",
      "\t\tCommand Type: docker\n",
      "\tWOW\n",
      "\t\tUUID: 0accee74-bb9a-46cb-b9a6-32e37a2c6085\n",
      "\t\tCompatible Types: ['png', 'pgm']\n",
      "\t\tMaximum Embedding Ratio: 0.5\n",
      "\t\tCommand Type: docker\n",
      "\tHILL\n",
      "\t\tUUID: 2172f80d-c49d-4869-b6f9-b3145d714003\n",
      "\t\tCompatible Types: ['png', 'pgm']\n",
      "\t\tMaximum Embedding Ratio: 0.5\n",
      "\t\tCommand Type: docker\n",
      "\tS-UNIWARD\n",
      "\t\tUUID: ab40391d-49ba-4226-834d-5a3b136ec2a4\n",
      "\t\tCompatible Types: ['pgm']\n",
      "\t\tMaximum Embedding Ratio: 0.5\n",
      "\t\tCommand Type: docker\n",
      "----------------------------------------------------------------------------------------------------\n",
      "Embeddor sets available: (0)\n",
      "----------------------------------------------------------------------------------------------------\n",
      "----------------------------------------------------------------------------------------------------\n",
      "All detector information\n",
      "----------------------------------------------------------------------------------------------------\n",
      "----------------------------------------------------------------------------------------------------\n",
      "Binary Detectors available: (7)\n",
      "\tspa\n",
      "\t\tUUID: e5729ac3-c0d1-47e5-8646-b2ed588b780e\n",
      "\t\tCompatible Types: ['png', 'pgm']\n",
      "\t\tCommand Type: docker\n",
      "\trs\n",
      "\t\tUUID: ee279e6b-3877-43ef-a168-060eade5a1c7\n",
      "\t\tCompatible Types: ['png', 'pgm']\n",
      "\t\tCommand Type: docker\n",
      "\tcalibration\n",
      "\t\tUUID: 0de293b3-de48-4ae0-8d51-b56b6fb0ff1a\n",
      "\t\tCompatible Types: ['png']\n",
      "\t\tCommand Type: docker\n",
      "\tesvm\n",
      "\t\tUUID: 63e72412-5a3b-4b9b-9730-ec01350aed96\n",
      "\t\tCompatible Types: ['png', 'jpeg', 'jpg']\n",
      "\t\tCommand Type: native\n",
      "\tstegdetect\n",
      "\t\tUUID: e229944f-8188-4fae-a25d-1d056f6b542d\n",
      "\t\tCompatible Types: ['jpeg', 'jpg']\n",
      "\t\tCommand Type: docker\n",
      "\tYeNet\n",
      "\t\tUUID: eba28c38-b0f2-4fef-8e66-89656ff5f69b\n",
      "\t\tCompatible Types: ['pgm', 'png', 'jpeg', 'jpg']\n",
      "\t\tCommand Type: native\n",
      "\tstegexpose\n",
      "\t\tUUID: 223015d7-9722-4636-b4f9-d60ff8e1defe\n",
      "\t\tCompatible Types: ['png', 'bmp']\n",
      "\t\tCommand Type: native\n",
      "----------------------------------------------------------------------------------------------------\n",
      "Probability Detectors available: (9)\n",
      "\tYeNet\n",
      "\t\tUUID: e15b9501-f4d4-4995-a425-5ff109fb7514\n",
      "\t\tCompatible Types: ['png', 'pgm', 'jpeg', 'jpg']\n",
      "\t\tCommand Type: native\n",
      "\tSRNet\n",
      "\t\tUUID: 5d592cf4-7521-47f6-aa67-955a6f689428\n",
      "\t\tCompatible Types: ['png', 'jpeg', 'jpg']\n",
      "\t\tCommand Type: native\n",
      "\tXuNet\n",
      "\t\tUUID: b569b988-e2bd-4aeb-9936-819f40979eb6\n",
      "\t\tCompatible Types: ['png', 'bmp']\n",
      "\t\tCommand Type: native\n",
      "\tXuNet-Jpeg\n",
      "\t\tUUID: a68a8747-9831-43ee-bdd4-199ccced4adc\n",
      "\t\tCompatible Types: ['png', 'bmp']\n",
      "\t\tCommand Type: native\n",
      "\tQNet\n",
      "\t\tUUID: 7acdb4b5-7638-403e-bac8-d8bd1d369783\n",
      "\t\tCompatible Types: ['png', 'jpeg', 'jpg']\n",
      "\t\tCommand Type: native\n",
      "\tPhaseNet\n",
      "\t\tUUID: 429f9eb5-7eb2-4852-9a78-7a01cbe4afdb\n",
      "\t\tCompatible Types: ['jpeg', 'jpg']\n",
      "\t\tCommand Type: native\n",
      "\tstegexpose\n",
      "\t\tUUID: 794ea3cc-6d30-4708-86d8-e2b14b76756a\n",
      "\t\tCompatible Types: ['png', 'bmp']\n",
      "\t\tCommand Type: native\n",
      "\tSpa\n",
      "\t\tUUID: 0bfab8b3-e5a0-4495-8bfa-639541c4c828\n",
      "\t\tCompatible Types: ['png', 'pgm']\n",
      "\t\tCommand Type: native\n",
      "\tRs\n",
      "\t\tUUID: 24a53133-438b-4664-a229-62c9d50eb81f\n",
      "\t\tCompatible Types: ['png', 'pgm']\n",
      "\t\tCommand Type: native\n",
      "----------------------------------------------------------------------------------------------------\n",
      "Detector sets available: (0)\n",
      "----------------------------------------------------------------------------------------------------\n",
      "----------------------------------------------------------------------------------------------------\n",
      "All information printed.\n"
     ]
    }
   ],
   "source": [
    "stegtest.info(all=True, database=True, embeddor=True, detector=True)"
   ]
  },
  {
   "cell_type": "markdown",
   "metadata": {},
   "source": [
    "## Step 5. Creating Algorithm Sets\n",
    "\n",
    "StegTest uses sets of tools and then applies these tools on a set of data. This allows StegTest to easily generate huge amounts of data with a variety of tools. Sets are composed of one or more tools. They are also assigned a unique identifier (UUID). You can retrieve a UUID from the info command as well. The set abstraction is very useful since it lets you apply one or more tools in a very modular fashion to a variety of databases. \n",
    "\n",
    "### 5A: Creating an Embeddor Set\n",
    "\n",
    "To create an embeddor set, we have provided the following function: \n",
    "\n",
    "```python\n",
    "stegtest.add_embeddor(embeddor_uuids, set_uuid)\n",
    "```\n",
    "\n",
    "This function will take in a list of embeddors and combine them to create an embeddor set. An embeddor set is essentially a UUID that represents a collection of one or more embeddors. The function takes the following parameters:\n",
    "- <b>embeddor_uuids</b>(list): This is a list of embeddor UUIDs that will be combined into a set. The UUIDs are retrieved via the info command.  \n",
    "- <b>set_uuid</b>(str): If this parameter is provided, the embeddors will be added to a pre-existing set. By default, it is set to None"
   ]
  },
  {
   "cell_type": "code",
   "execution_count": 3,
   "metadata": {},
   "outputs": [
    {
     "name": "stdout",
     "output_type": "stream",
     "text": [
      "Adding embeddors: ['9398885f-170d-45be-a99a-e1b7d18ab582', 'cad12efc-b51f-4103-b7a1-e1b34532a9d0']\n",
      "Added embeddor successfully\n",
      "The new UUID of the set you have created is: b8f0a676-2f21-4f4e-bd25-082b1d5f1e26\n"
     ]
    }
   ],
   "source": [
    "LSBSteg_tool_uuid = '9398885f-170d-45be-a99a-e1b7d18ab582' #This is retrieved from the info command\n",
    "SteganoLSB_tool_uuid = 'cad12efc-b51f-4103-b7a1-e1b34532a9d0' #This is retrived from the info command\n",
    "\n",
    "embeddor_uuids = [LSBSteg_tool_uuid, SteganoLSB_tool_uuid]\n",
    "\n",
    "embeddor_set_uuid = stegtest.add_embeddor(embeddor_uuids)"
   ]
  },
  {
   "cell_type": "markdown",
   "metadata": {},
   "source": [
    "### 5B: Creating a Detector Set\n",
    "\n",
    "To create a detector set, we have provided the following function: \n",
    "\n",
    "```python\n",
    "stegtest.add_detector(detector_uuid, set_uuid)\n",
    "```\n",
    "\n",
    "This function will take in a list of detectors and combine them to create a detector set. A detector set is essentially a UUID that represents a collection of one or more detectors. The function takes the following parameters:\n",
    "- <b>detector_uuids</b>(list): This is a list of detector UUIDs that will be combined into a set. The UUIDs are retrieved via the info command. \n",
    "- <b>set_uuid</b>(str): If this parameter is provided, the detectors will be added to a pre-existing set. By default, it is set to None."
   ]
  },
  {
   "cell_type": "code",
   "execution_count": 4,
   "metadata": {},
   "outputs": [
    {
     "name": "stdout",
     "output_type": "stream",
     "text": [
      "Adding detectors: ['223015d7-9722-4636-b4f9-d60ff8e1defe', 'eba28c38-b0f2-4fef-8e66-89656ff5f69b']\n",
      "Added detector successfully\n",
      "The new UUID of the set you have created is: b55e1078-af6d-4059-9402-d617399749eb\n"
     ]
    }
   ],
   "source": [
    "StegExpose_tool_uuid = '223015d7-9722-4636-b4f9-d60ff8e1defe' #This is retrieved from the info command\n",
    "YeNet_tool_uuid = 'eba28c38-b0f2-4fef-8e66-89656ff5f69b' #This is retrieved from the info command\n",
    "\n",
    "detector_uuids = [StegExpose_tool_uuid, YeNet_tool_uuid]\n",
    "\n",
    "detector_set_uuid = stegtest.add_detector(detector_uuids)"
   ]
  },
  {
   "cell_type": "markdown",
   "metadata": {},
   "source": [
    "## Step 6. Steganographic Database Generation\n",
    "\n",
    "To generate a steganographic database, we have provided the following function:\n",
    "\n",
    "```python\n",
    "stegtest.embed(embeddor_set_uuid, database_uuid, ratio, name)\n",
    "```\n",
    "\n",
    "The embed function takes the database_uuid to retrieve a list of database images. It then takes the embeddor_set_uuid to retrieve a list of embedding tools. Using the execution and command generation engines of StegTest, this function then generates a steganographic database with specified name and embedding ratio. The function takes the following parameters:\n",
    "- <b>embeddor_set_uuid</b>(str): The UUID of the embeddor set that you wantn to use. \n",
    "- <b>database_uuid</b>(str): The UUID of the datatabase that you want to embed.\n",
    "- <b>ratio</b>(float): The embedding ratio to use to generate the database. For spatial images, this is bits per pixel. For frequency images, this is bits per nonzero AC DC coefficient. \n",
    "- <b>name</b>(str): The name of the steganographic image that will be generated"
   ]
  },
  {
   "cell_type": "code",
   "execution_count": 7,
   "metadata": {},
   "outputs": [
    {
     "name": "stdout",
     "output_type": "stream",
     "text": [
      "generating commands...\n",
      "commands generated...\n",
      "setting up embeddors...\n"
     ]
    },
    {
     "name": "stderr",
     "output_type": "stream",
     "text": [
      "0it [00:00, ?it/s]\n",
      "  0%|          | 0/10 [00:00<?, ?it/s]"
     ]
    },
    {
     "name": "stdout",
     "output_type": "stream",
     "text": [
      "completed.\n",
      "embedding...\n"
     ]
    },
    {
     "name": "stderr",
     "output_type": "stream",
     "text": [
      "100%|██████████| 10/10 [00:07<00:00,  1.36it/s]\n",
      "100%|██████████| 10/10 [00:00<00:00, 305.58it/s]\n",
      "  0%|          | 0/2 [00:00<?, ?it/s]"
     ]
    },
    {
     "name": "stdout",
     "output_type": "stream",
     "text": [
      "completed.\n",
      "processing embeding results...\n",
      "completed.\n",
      "terminating processes...\n"
     ]
    },
    {
     "name": "stderr",
     "output_type": "stream",
     "text": [
      "100%|██████████| 2/2 [00:00<00:00,  2.13it/s]"
     ]
    },
    {
     "name": "stdout",
     "output_type": "stream",
     "text": [
      "completed.\n",
      "The UUID of the dataset you have created is: 32ce5043-6443-4456-9303-0a22bea02774\n"
     ]
    },
    {
     "name": "stderr",
     "output_type": "stream",
     "text": [
      "\n"
     ]
    }
   ],
   "source": [
    "stego_db_uuid = stegtest.embed(embeddor_set_uuid, TOY_database_uuid, 0.5, 'STEGANOGRAPHIC DATABASE')"
   ]
  },
  {
   "cell_type": "markdown",
   "metadata": {},
   "source": [
    "## Step 7. Steganographic Database Verification\n",
    "\n",
    "To verify that a steganographic database has been generated correctly, we have provided the following function:\n",
    "\n",
    "```python\n",
    "stegtest.verify(stego_database_uuid)\n",
    "```\n",
    "\n",
    "The verification function extracts the message that was embedded inside the images of the steganographic database. It then verifies that the message extracted is the same as the message that was embedded. The function takes the following parameters:\n",
    "- <b>stego_database_uuid</b>(str): UUID of a generated steganographic database."
   ]
  },
  {
   "cell_type": "code",
   "execution_count": 27,
   "metadata": {},
   "outputs": [
    {
     "name": "stderr",
     "output_type": "stream",
     "text": [
      "0it [00:00, ?it/s]\n",
      "  0%|          | 0/10 [00:00<?, ?it/s]"
     ]
    },
    {
     "name": "stdout",
     "output_type": "stream",
     "text": [
      "running pre commands\n",
      "completed.\n",
      "running commands\n"
     ]
    },
    {
     "name": "stderr",
     "output_type": "stream",
     "text": [
      "100%|██████████| 10/10 [00:03<00:00,  2.88it/s]\n",
      "0it [00:00, ?it/s]\n",
      "  0%|          | 0/12 [00:00<?, ?it/s]"
     ]
    },
    {
     "name": "stdout",
     "output_type": "stream",
     "text": [
      "completed.\n",
      "running post commands.\n",
      "completed.\n",
      "terminating processes...\n"
     ]
    },
    {
     "name": "stderr",
     "output_type": "stream",
     "text": [
      "100%|██████████| 12/12 [00:00<00:00, 12.64it/s]"
     ]
    },
    {
     "name": "stdout",
     "output_type": "stream",
     "text": [
      "completed.\n",
      "Listing all verification results...\n",
      "----------------------------------------------------------------------------------------------------\n",
      "Specific Embeddor Results\n",
      "\tName: LSBSteg\n",
      "\tUUID: 9398885f-170d-45be-a99a-e1b7d18ab582\n",
      "\t\tCorrectly Embedded (%): 100.0\n",
      "\t\tIncorrect Embedding (%): 0.0\n",
      "\tName: SteganoLSB\n",
      "\tUUID: cad12efc-b51f-4103-b7a1-e1b34532a9d0\n",
      "\t\tCorrectly Embedded (%): 100.0\n",
      "\t\tIncorrect Embedding (%): 0.0\n",
      "----------------------------------------------------------------------------------------------------\n",
      "Total Results\n",
      "\tCorrectly Embedded (%): 100.0\n",
      "\tIncorrect Embedding (%): 0.0\n"
     ]
    },
    {
     "name": "stderr",
     "output_type": "stream",
     "text": [
      "\n"
     ]
    }
   ],
   "source": [
    "stegtest.verify(stego_db_uuid)"
   ]
  },
  {
   "cell_type": "markdown",
   "metadata": {},
   "source": [
    "## Step 8. Testing out StegDetectors\n",
    "\n",
    "To analyze a steganographic database using the stegdetectors available in the system, we have provided the following function:\n",
    "\n",
    "```python\n",
    "stegtest.detect(detector_set_uuid, database_uuids)\n",
    "```\n",
    "\n",
    "The detect function takes a detector_set_uuid to retrieve a list of stegdetector tools. It then takes a list of database_uuids to retrieve a list of databases to test the stegdetector tools on. Once this is done, the execution and command generation engine use the configurations of each of the tools to test the database. The analyzer engine then reports the results. The function takes the following parameters:\n",
    "- <b>detector_set_uuid</b>(str): This is the UUID of the detector set that you want to analyze the databases with. \n",
    "- <b>database_uuids</b>(list): This is a list of database UUIDs that we want to check the detectors with. "
   ]
  },
  {
   "cell_type": "code",
   "execution_count": 9,
   "metadata": {},
   "outputs": [
    {
     "name": "stderr",
     "output_type": "stream",
     "text": [
      "0it [00:00, ?it/s]\n",
      "  0%|          | 0/11 [00:00<?, ?it/s]"
     ]
    },
    {
     "name": "stdout",
     "output_type": "stream",
     "text": [
      "collecting results from following databases: ['3f485829-7edc-44b8-9f35-a13f279d21ab', '32ce5043-6443-4456-9303-0a22bea02774']\n",
      "setting up detectors...\n",
      "completed.\n",
      "analyzing images...\n"
     ]
    },
    {
     "name": "stderr",
     "output_type": "stream",
     "text": [
      "100%|██████████| 11/11 [00:27<00:00,  6.85s/it]\n",
      "  0%|          | 0/1 [00:00<?, ?it/s]"
     ]
    },
    {
     "name": "stdout",
     "output_type": "stream",
     "text": [
      "completed.\n",
      "processing image results...\n"
     ]
    },
    {
     "name": "stderr",
     "output_type": "stream",
     "text": [
      "100%|██████████| 1/1 [00:02<00:00,  2.07s/it]\n",
      "100%|██████████| 12/12 [00:00<00:00, 425.38it/s]\n",
      "0it [00:00, ?it/s]\n",
      "  0%|          | 0/11 [00:00<?, ?it/s]"
     ]
    },
    {
     "name": "stdout",
     "output_type": "stream",
     "text": [
      "completed.\n",
      "terminating processes...\n",
      "completed.\n",
      "setting up detectors...\n",
      "completed.\n",
      "analyzing images...\n"
     ]
    },
    {
     "name": "stderr",
     "output_type": "stream",
     "text": [
      "100%|██████████| 11/11 [00:28<00:00,  7.54s/it]\n",
      "  0%|          | 0/1 [00:00<?, ?it/s]"
     ]
    },
    {
     "name": "stdout",
     "output_type": "stream",
     "text": [
      "completed.\n",
      "processing image results...\n"
     ]
    },
    {
     "name": "stderr",
     "output_type": "stream",
     "text": [
      "100%|██████████| 1/1 [00:01<00:00,  1.94s/it]\n",
      "100%|██████████| 12/12 [00:00<00:00, 489.61it/s]"
     ]
    },
    {
     "name": "stdout",
     "output_type": "stream",
     "text": [
      "completed.\n",
      "terminating processes...\n",
      "completed.\n",
      "Experiment information\n",
      "----------------------------------------------------------------------------------------------------\n",
      "----------------------------------------------------------------------------------------------------\n",
      "Database Information\n",
      "\tUUID: 3f485829-7edc-44b8-9f35-a13f279d21ab\n",
      "\t\tImage Types: ['png']\n",
      "----------------------------------------------------------------------------------------------------\n",
      "Database Information\n",
      "\tUUID: 32ce5043-6443-4456-9303-0a22bea02774\n",
      "\t\tSource DB: 3f485829-7edc-44b8-9f35-a13f279d21ab\n",
      "\t\tSource Embeddor Set: b8f0a676-2f21-4f4e-bd25-082b1d5f1e26\n",
      "\t\tImage Types: ['png']\n",
      "\t\tPayload: 0.5\n",
      "----------------------------------------------------------------------------------------------------\n",
      "Embeddor Set Information\n",
      "\tUUID: b8f0a676-2f21-4f4e-bd25-082b1d5f1e26\n",
      "\t\tCompatible Types: {'png'}\n",
      "\t\tEmbeddors: 2\n",
      "\t\t\t(LSBSteg, 9398885f-170d-45be-a99a-e1b7d18ab582)\n",
      "\t\t\t(SteganoLSB, cad12efc-b51f-4103-b7a1-e1b34532a9d0)\n",
      "----------------------------------------------------------------------------------------------------\n",
      "----------------------------------------------------------------------------------------------------\n",
      "Listing all results...\n",
      "----------------------------------------------------------------------------------------------------\n",
      "\tName: YeNet\n",
      "\tDetector Type: binary\n",
      "\tUUID: eba28c38-b0f2-4fef-8e66-89656ff5f69b\n",
      "\tRaw Results:\n",
      "\t\t(10/10) stego images identified correctly\n",
      "\t\t(7/10) cover images identified correctly\n",
      "\t\t(17/20) total images identified correctly\n",
      "\tMetrics:\n",
      "\t\tfalse positive rate: 0.30000000000000004\n",
      "\t\tfalse negative rate: 0.0\n",
      "\t\ttrue negative rate: 0.7\n",
      "\t\tnegative predictive value: 1.0\n",
      "\t\tfalse discovery rate: 0.23076923076923073\n",
      "\t\ttrue positive rate: 1.0\n",
      "\t\tpositive predictive value: 0.7692307692307693\n",
      "\t\taccuracy: 0.85\n",
      "----------------------------------------------------------------------------------------------------\n",
      "\tName: stegexpose\n",
      "\tDetector Type: binary\n",
      "\tUUID: 223015d7-9722-4636-b4f9-d60ff8e1defe\n",
      "\tRaw Results:\n",
      "\t\t(10/10) stego images identified correctly\n",
      "\t\t(10/10) cover images identified correctly\n",
      "\t\t(20/20) total images identified correctly\n",
      "\tMetrics:\n",
      "\t\tfalse positive rate: 0.0\n",
      "\t\tfalse negative rate: 0.0\n",
      "\t\ttrue negative rate: 1.0\n",
      "\t\tnegative predictive value: 1.0\n",
      "\t\tfalse discovery rate: 0.0\n",
      "\t\ttrue positive rate: 1.0\n",
      "\t\tpositive predictive value: 1.0\n",
      "\t\taccuracy: 1.0\n",
      "----------------------------------------------------------------------------------------------------\n",
      "----------------------------------------------------------------------------------------------------\n",
      "All results printed.\n"
     ]
    },
    {
     "name": "stderr",
     "output_type": "stream",
     "text": [
      "\n"
     ]
    }
   ],
   "source": [
    "database_uuids = [TOY_database_uuid, stego_db_uuid]\n",
    "stegtest.detect(detector_set_uuid, database_uuids)"
   ]
  },
  {
   "cell_type": "code",
   "execution_count": null,
   "metadata": {},
   "outputs": [],
   "source": []
  }
 ],
 "metadata": {
  "kernelspec": {
   "display_name": "Python 3",
   "language": "python",
   "name": "python3"
  },
  "language_info": {
   "codemirror_mode": {
    "name": "ipython",
    "version": 3
   },
   "file_extension": ".py",
   "mimetype": "text/x-python",
   "name": "python",
   "nbconvert_exporter": "python",
   "pygments_lexer": "ipython3",
   "version": "3.6.4"
  }
 },
 "nbformat": 4,
 "nbformat_minor": 2
}
