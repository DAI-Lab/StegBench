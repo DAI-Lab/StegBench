{
 "cells": [
  {
   "cell_type": "markdown",
   "metadata": {},
   "source": [
    "## Prerequisites\n",
    "\n",
    "\n",
    "Before using this tutorial, ensure that the following are on your system:\n",
    "- <b>StegTest is installed.</b> Install via make install\n",
    "- <b>Steganography Tools are on your system</b>. Installed locally or installed via bin/install_assets.sh\n",
    "- <b>StegDetect Tools are on your system</b>. Installed locally or installed via bin/intall_assets.sh\n",
    "\n",
    "We have provided a script at bin/install_assets.sh. This script will install known steganography and steganalysis tools. It will help you get started more quickly. You can run this with: \n",
    "\n",
    "```\n",
    "bash bin/install_assets.sh\n",
    "```\n",
    "\n",
    "It is suggested that if you are using machine-learning based tools like SteganoGAN or StegDetect that you use:\n",
    "- <b>CUDA enabled device.</b> Cloud computing resources can be used to access these devices\n"
   ]
  },
  {
   "cell_type": "markdown",
   "metadata": {},
   "source": [
    "### StegTest File Sysstem \n",
    "\n",
    "StegTest depends on file-system assets to be present. This allows StegTest to keep track of datasets and current algorithms for image-hiding and image-detection that have been loaded into the system. \n",
    "\n",
    "Initialize will create all the necessary assets in the current working directory. <b>Remember that you must initialize stegtest in the directory that you wish to use it in</b>.\n",
    "\n",
    "The file system for StegTest looks like the following:\n",
    "\n",
    "```\n",
    "stegtest_assets/\n",
    "├── db/ \n",
    "|   ├── datasets/\n",
    "│   └── metadata/\n",
    "|   ├── source.csv\n",
    "│   └── embedded.csv\n",
    "├── embeddor <b>Contains all embeddor-related assets</b>\n",
    "|   ├── sets\n",
    "│   └── assets\n",
    "|   ├── embeddors.csv\n",
    "├── detector <b>Contains all detector-related assets</b>\n",
    "|   ├── sets\n",
    "│   └── assets\n",
    "|   ├── detectors.csv\n",
    "```\n",
    "\n",
    "##### Database File Structure\n",
    "\n",
    "The database directory (db) contains all database-related assets and images. It is composed of the following:\n",
    "\n",
    "- <b>datasets:</b> Contains all the raw image files when they are processed/downloaded.\n",
    "- <b>metadata:</b> Contains metadata about the image files that are downloaded \n",
    "- <b>source.csv</b> Contains information on the source databases\n",
    "- <b>embedded.csv</b> Contains information on the steganographic databases \n",
    "\n",
    "##### Embeddor File Structure\n",
    "\n",
    "The embeddor directory (embeddor) contains all embeddor-related assets. It is composed of the following: \n",
    "\n",
    "- <b>sets:</b> Contains information on embeddor sets (covered in later part of tutorial)\n",
    "- <b>assets:</b> Contains assets needed for embedding\n",
    "- <b>embeddors.csv</b> Contains information on embeddors in system \n",
    "\n",
    "##### Detector File Structure\n",
    "\n",
    "The detector directory (detectr) contains all detector-related assets. It is composed of the following:\n",
    "\n",
    "- <b>sets:</b> Contains information on detector sets (covered in laber part of tutorial)\n",
    "- <b>assets:</b> Contaiins assets needed for detection \n",
    "- <b>detectors.csv</b> Contains informatin on detectors in system \n",
    "\n",
    "\n",
    "### UUID\n",
    "\n",
    "In our system, all assets are kept track with a UUID, or in other words, a unique identifier. A UUID is assigned to databases, embeddors, and detectors. We will require UUIDs in the next few steps. The information command lets us find out the UUID for each of these assets so that we can properly use them in our code. \n",
    "\n",
    "An example UUID is: e1d5d46e-6763-4083-a88f-1c2d3f02776e. They follow standard UUIDv4 specifications. "
   ]
  },
  {
   "cell_type": "code",
   "execution_count": 1,
   "metadata": {},
   "outputs": [],
   "source": [
    "import stegtest as stegtest"
   ]
  },
  {
   "cell_type": "markdown",
   "metadata": {},
   "source": [
    "## Step 1. Initializing StegTest\n",
    "\n",
    "To initialize this file structure, we call the following command: \n",
    "\n",
    "```python\n",
    "stegtest.initialize()\n",
    "```\n",
    "\n",
    "This initializes the stegtest_asset directory desribed above in your current working directory. "
   ]
  },
  {
   "cell_type": "code",
   "execution_count": 2,
   "metadata": {},
   "outputs": [
    {
     "name": "stdout",
     "output_type": "stream",
     "text": [
      "initializing fs at /Users/anene/Documents/MEng/Steganography/Evaluator/stegtest/notebooks\n",
      "cleaning fs...\n",
      "directory does not exist\n",
      "initializing directories...\n",
      "initializing all files...\n"
     ]
    }
   ],
   "source": [
    "stegtest.initialize()"
   ]
  },
  {
   "cell_type": "markdown",
   "metadata": {},
   "source": [
    "## Step 2. Loading the Data\n",
    "\n",
    "### 2A: Downloading Data from Pre-Specified Sources \n",
    "\n",
    "We provide a set of routines to download from. There are several options for these routines available to you. They are listed in the parameter description below. \n",
    "\n",
    "```python\n",
    "stegtest.download(name_of_routine, name_of_database)\n",
    "```\n",
    "\n",
    "- <b>name_of_routine</b>(str): The options are 'ALASKA', 'BOSS', 'BOWS2', 'COCO_Val', 'COCO_Test', 'COCO_Train', 'DIV2K_VALID', 'DIV2K_TRAIN' \n",
    "- <b>name_of_database</b>(str): Specify a user-friendly name for the database "
   ]
  },
  {
   "cell_type": "code",
   "execution_count": null,
   "metadata": {},
   "outputs": [],
   "source": [
    "COCO_database_uuid = stegtest.download('COCO_Val', 'COCO_Val')"
   ]
  },
  {
   "cell_type": "markdown",
   "metadata": {},
   "source": [
    "### 2B: Loading a Custom Dataset\n",
    "\n",
    "We also provide the option to process a custom dataset into the system. This dataset must already be downloaded onto your machine. To process this dataset, you call the function below with a path to the directory as well as a user-supplied name. \n",
    "\n",
    "```python\n",
    "stegtest.process(path_to_data_directory, name_of_database)\n",
    "```\n",
    "\n",
    "- <b>path_to_data_directory</b>(str): This is the path to the directory that contain the images.\n",
    "- <b>name_of_database</b>(str): Specify a user-friendly name for the database "
   ]
  },
  {
   "cell_type": "code",
   "execution_count": 5,
   "metadata": {},
   "outputs": [
    {
     "name": "stdout",
     "output_type": "stream",
     "text": [
      "applying following operations: dict_keys([])\n",
      "The UUID of the dataset(s) you have processed is: c38e7b4a-d537-4fc2-99f7-b9e63f7a9d2f\n"
     ]
    }
   ],
   "source": [
    "TOY_database_uuid = stegtest.process('example_dataset/', 'Toy Dataset')"
   ]
  },
  {
   "cell_type": "markdown",
   "metadata": {},
   "source": [
    "## Step 3. Loading Configuration Files \n",
    "\n",
    "Stegtest works by processing configuration files that contain information about each of the algorithms in the system. This allows StegTest to be a highly interoperable and modular system that can easily integrate into existing steganographic pipelines. \n",
    "\n",
    "<b>PLEASE NOTE THAT YOU WILL HAVE TO MODIFY THE CONFIGURATION FILES TO MATCH THE TOOLS AVAILABLE ON YOUR MACHINE. IF YOU DO NOT MODIFY THEM, THE SYSTEM WILL NOT PROPERLY BE ABLE TO USE YOUR TOOLS. DIRECTIONS AVAILABLE AT [CONFIGURATION.md](../CONFIGURATION.md) ON HOW TO CREATE A CONFIGURATION.</b>\n",
    "\n",
    "### 3A: Loading Embeddor Configuration \n",
    "\n",
    "<b>PLEASE READ [CONFIGURATION.md](../CONFIGURATION.md) LOCATED IN THE TOP-LEVEL DIRECTORY FOR A MORE COMPREHENSIVE REVIEW</b>\n",
    "\n",
    "These configurations are stored in .ini files located on your machine. To load a configuration, we use the function:\n",
    "\n",
    "```python\n",
    "stegtest.add_config(config=[config_file_paths], directory=[config_directory_paths])\n",
    "```\n",
    "\n",
    "This function takes two parameters that are:\n",
    "\n",
    "- <b>config</b>(list). List of paths to configuration files. \n",
    "- <b>directory</b>(list): List of paths to directories that contain configuration files. Useful for batch processing. \n",
    "\n",
    "Let us load an embeddor configuration file now. "
   ]
  },
  {
   "cell_type": "code",
   "execution_count": 4,
   "metadata": {},
   "outputs": [
    {
     "name": "stdout",
     "output_type": "stream",
     "text": [
      "starting processing of config file: /Users/anene/Documents/MEng/Steganography/Evaluator/stegtest/examples/configs/embeddor/spatial-based.ini\n",
      "processing of file complete\n"
     ]
    }
   ],
   "source": [
    "stegtest.add_config(config=['../examples/configs/embeddor/spatial-based.ini'])"
   ]
  },
  {
   "cell_type": "markdown",
   "metadata": {},
   "source": [
    "### 3B: Loading Detector Configuration\n",
    "\n",
    "<b>PLEASE READ [CONFIGURATION.md](../CONFIGURATION.md) LOCATED IN THE TOP-LEVEL DIRECTORY FOR A MORE COMPREHENSIVE REVIEW</b>\n",
    "\n",
    "To load a detector configuration, we use the same function as before. In this case, let us load configurations from two different directories that contain configuration files. Please note that detectors come in two varieties: \n",
    "\n",
    "- <b>Classification Detectors</b>: These output a yes/no decision on if an image is steganographic or not.\n",
    "- <b>Probabilistic Detectors</b>: These output a probability that an image is steganographic or not. \n"
   ]
  },
  {
   "cell_type": "code",
   "execution_count": 5,
   "metadata": {
    "scrolled": true
   },
   "outputs": [
    {
     "name": "stdout",
     "output_type": "stream",
     "text": [
      "processing config directory: ../examples/configs/detector_csfc/\n",
      "starting processing of config file: /Users/anene/Documents/MEng/Steganography/Evaluator/stegtest/examples/configs/detector_csfc/alethia.ini\n",
      "processing of file complete\n",
      "starting processing of config file: /Users/anene/Documents/MEng/Steganography/Evaluator/stegtest/examples/configs/detector_csfc/brute-based.ini\n",
      "processing of file complete\n",
      "starting processing of config file: /Users/anene/Documents/MEng/Steganography/Evaluator/stegtest/examples/configs/detector_csfc/dl-based.ini\n",
      "processing of file complete\n",
      "starting processing of config file: /Users/anene/Documents/MEng/Steganography/Evaluator/stegtest/examples/configs/detector_csfc/srm-based.ini\n",
      "processing of file complete\n",
      "processing of directory complete\n",
      "processing config directory: ../examples/configs/detector_prob/\n",
      "starting processing of config file: /Users/anene/Documents/MEng/Steganography/Evaluator/stegtest/examples/configs/detector_prob/dl-based.ini\n",
      "processing of file complete\n",
      "starting processing of config file: /Users/anene/Documents/MEng/Steganography/Evaluator/stegtest/examples/configs/detector_prob/srm-based.ini\n",
      "processing of file complete\n",
      "processing of directory complete\n"
     ]
    }
   ],
   "source": [
    "stegtest.add_config(directory=['../examples/configs/detector_csfc/', '../examples/configs/detector_prob/'])"
   ]
  },
  {
   "cell_type": "markdown",
   "metadata": {},
   "source": [
    "## Step 4. Retrieving System Information\n",
    "\n",
    "Now that we have processed enough data, we would like to see information about what is currently in our system. To do this, stegtest provides the following command\n",
    "\n",
    "```python\n",
    "stegtest.info(all=True, database=True, embeddor=True, detector=True)\n",
    "```\n",
    "\n",
    "The parameters to this function are the following:\n",
    "\n",
    "- <b>all</b>(bool): If true, all system information will be printed.\n",
    "- <b>database</b>(bool): If true, all database information will be printed. \n",
    "- <b>embeddor</b>(bool): If true, all embeddor information will be printed.\n",
    "- <b>detector</b>(bool): If true, all detector information will be printed. \n",
    "\n",
    "You shoud use this command to manually retrieve the UUID of the asset that you wish to choose in future operations. "
   ]
  },
  {
   "cell_type": "code",
   "execution_count": 6,
   "metadata": {},
   "outputs": [
    {
     "name": "stdout",
     "output_type": "stream",
     "text": [
      "Listing all requested information....\n",
      "----------------------------------------------------------------------------------------------------\n",
      "----------------------------------------------------------------------------------------------------\n",
      "All database information\n",
      "----------------------------------------------------------------------------------------------------\n",
      "----------------------------------------------------------------------------------------------------\n",
      "Source Databases processed: (1)\n",
      "\tToy Dataset\n",
      "\t\tUUID: 357b014a-b8fe-43ae-a205-50d99553a9c2\n",
      "\t\tDirectory path: /Users/anene/Documents/MEng/Steganography/Evaluator/stegtest/notebooks/example_dataset\n",
      "\t\tImage Count: 10\n",
      "\t\tImage Types: ['png']\n",
      "----------------------------------------------------------------------------------------------------\n",
      "Steganographic Databases processed: (0)\n",
      "----------------------------------------------------------------------------------------------------\n",
      "----------------------------------------------------------------------------------------------------\n",
      "All embeddor information\n",
      "----------------------------------------------------------------------------------------------------\n",
      "----------------------------------------------------------------------------------------------------\n",
      "Embeddors available: (9)\n",
      "\tLSBSteg\n",
      "\t\tUUID: ec586a69-be56-4eb6-936e-22ab175169c0\n",
      "\t\tCompatible Types: ['png', 'bmp']\n",
      "\t\tMaximum Embedding Ratio: 0.5\n",
      "\t\tCommand Type: docker\n",
      "\tcloackedpixel\n",
      "\t\tUUID: 3b26a136-aa8e-4b0f-bf54-c36905e3610e\n",
      "\t\tCompatible Types: ['png', 'pgm']\n",
      "\t\tMaximum Embedding Ratio: 0.5\n",
      "\t\tCommand Type: docker\n",
      "\tOpenStego\n",
      "\t\tUUID: ce3019eb-6bbe-4129-9c93-675006eec36f\n",
      "\t\tCompatible Types: ['png']\n",
      "\t\tMaximum Embedding Ratio: 0.5\n",
      "\t\tCommand Type: docker\n",
      "\tSteganoLSB\n",
      "\t\tUUID: 6b55ba26-0701-485a-8057-3b756783915d\n",
      "\t\tCompatible Types: ['png']\n",
      "\t\tMaximum Embedding Ratio: 0.5\n",
      "\t\tCommand Type: docker\n",
      "\tSteganoLSB-Erathosthenes\n",
      "\t\tUUID: e8218067-4af2-40e3-9388-8c307b6929c6\n",
      "\t\tCompatible Types: ['png']\n",
      "\t\tMaximum Embedding Ratio: 0.065\n",
      "\t\tCommand Type: docker\n",
      "\tHUGO\n",
      "\t\tUUID: 276dbeb0-51c1-4cec-9866-211b9b3f8f14\n",
      "\t\tCompatible Types: ['png', 'pgm']\n",
      "\t\tMaximum Embedding Ratio: 0.5\n",
      "\t\tCommand Type: docker\n",
      "\tWOW\n",
      "\t\tUUID: 8097732a-2862-4d2e-9404-59594d54ed3a\n",
      "\t\tCompatible Types: ['png', 'pgm']\n",
      "\t\tMaximum Embedding Ratio: 0.5\n",
      "\t\tCommand Type: docker\n",
      "\tHILL\n",
      "\t\tUUID: c47ada43-9094-4d30-8d59-d3dfb0292abf\n",
      "\t\tCompatible Types: ['png', 'pgm']\n",
      "\t\tMaximum Embedding Ratio: 0.5\n",
      "\t\tCommand Type: docker\n",
      "\tS-UNIWARD\n",
      "\t\tUUID: f9df0b6e-1f28-4441-a865-f0bc3fd09b65\n",
      "\t\tCompatible Types: ['pgm']\n",
      "\t\tMaximum Embedding Ratio: 0.5\n",
      "\t\tCommand Type: docker\n",
      "----------------------------------------------------------------------------------------------------\n",
      "Embeddor sets available: (0)\n",
      "----------------------------------------------------------------------------------------------------\n",
      "----------------------------------------------------------------------------------------------------\n",
      "All detector information\n",
      "----------------------------------------------------------------------------------------------------\n",
      "----------------------------------------------------------------------------------------------------\n",
      "Binary Detectors available: (7)\n",
      "\tspa\n",
      "\t\tUUID: 71353a17-7c37-4c44-99f8-1bbfc73cf147\n",
      "\t\tCompatible Types: ['png', 'pgm']\n",
      "\t\tCommand Type: docker\n",
      "\trs\n",
      "\t\tUUID: fbf8fb9b-ced0-44b9-8688-f187549e96af\n",
      "\t\tCompatible Types: ['png', 'pgm']\n",
      "\t\tCommand Type: docker\n",
      "\tcalibration\n",
      "\t\tUUID: e2093a97-2a98-49d5-ae2d-cfdf4a6789a6\n",
      "\t\tCompatible Types: ['png']\n",
      "\t\tCommand Type: docker\n",
      "\tesvm\n",
      "\t\tUUID: 6c0ae354-5b22-41c9-b243-e80e35d003cc\n",
      "\t\tCompatible Types: ['png', 'jpeg', 'jpg']\n",
      "\t\tCommand Type: native\n",
      "\tstegdetect\n",
      "\t\tUUID: 167d9121-4d7a-46e7-bddd-f5a8a361b5c2\n",
      "\t\tCompatible Types: ['jpeg', 'jpg']\n",
      "\t\tCommand Type: docker\n",
      "\tYeNet\n",
      "\t\tUUID: 6c371411-e632-4a37-8c02-71a9fac998f9\n",
      "\t\tCompatible Types: ['pgm', 'png', 'jpeg', 'jpg']\n",
      "\t\tCommand Type: native\n",
      "\tstegexpose\n",
      "\t\tUUID: dd52edf7-3730-4086-97ef-784f6e543b47\n",
      "\t\tCompatible Types: ['png', 'bmp']\n",
      "\t\tCommand Type: native\n",
      "----------------------------------------------------------------------------------------------------\n",
      "Probability Detectors available: (9)\n",
      "\tYeNet\n",
      "\t\tUUID: b94f1e5a-1e9d-4e26-a4eb-1845d6b4160e\n",
      "\t\tCompatible Types: ['png', 'pgm', 'jpeg', 'jpg']\n",
      "\t\tCommand Type: native\n",
      "\tSRNet\n",
      "\t\tUUID: ed52cff4-7be4-4603-b7d1-665993b54d09\n",
      "\t\tCompatible Types: ['png', 'jpeg', 'jpg']\n",
      "\t\tCommand Type: native\n",
      "\tXuNet\n",
      "\t\tUUID: 71b74d73-aece-4963-9740-b208c08b43c6\n",
      "\t\tCompatible Types: ['png', 'bmp']\n",
      "\t\tCommand Type: native\n",
      "\tXuNet-Jpeg\n",
      "\t\tUUID: c12f1e21-8cbc-4a08-ad5b-811463985966\n",
      "\t\tCompatible Types: ['png', 'bmp']\n",
      "\t\tCommand Type: native\n",
      "\tQNet\n",
      "\t\tUUID: e637c30f-3709-4811-8d6d-75d4d1744e9c\n",
      "\t\tCompatible Types: ['png', 'jpeg', 'jpg']\n",
      "\t\tCommand Type: native\n",
      "\tPhaseNet\n",
      "\t\tUUID: f6ac5456-c7f0-4f91-abe8-3d914426edcf\n",
      "\t\tCompatible Types: ['jpeg', 'jpg']\n",
      "\t\tCommand Type: native\n",
      "\tstegexpose\n",
      "\t\tUUID: 0822e971-832d-436d-ab8c-b9354471bcfe\n",
      "\t\tCompatible Types: ['png', 'bmp']\n",
      "\t\tCommand Type: native\n",
      "\tSpa\n",
      "\t\tUUID: 36653b1d-0f12-4b81-809f-e899fb961b0b\n",
      "\t\tCompatible Types: ['png', 'pgm']\n",
      "\t\tCommand Type: native\n",
      "\tRs\n",
      "\t\tUUID: 4f8e3b47-96ff-4759-8396-3831cb97aea6\n",
      "\t\tCompatible Types: ['png', 'pgm']\n",
      "\t\tCommand Type: native\n",
      "----------------------------------------------------------------------------------------------------\n",
      "Detector sets available: (0)\n",
      "----------------------------------------------------------------------------------------------------\n",
      "----------------------------------------------------------------------------------------------------\n",
      "All information printed.\n"
     ]
    }
   ],
   "source": [
    "stegtest.info(all=True, database=True, embeddor=True, detector=True)"
   ]
  },
  {
   "cell_type": "markdown",
   "metadata": {},
   "source": [
    "## Step 5. Creating Algorithm Sets\n",
    "\n",
    "StegTest uses sets of tools and then applies these tools on a set of data. This allows StegTest to easily generate huge amounts of data with a variety of tools. Sets are composed of one or more tools. They are also assigned a unique identifier (UUID). You can retrieve a UUID from the info command as well. The set abstraction is very useful since it lets you apply one or more tools in a very modular fashion to a variety of databases. \n",
    "\n",
    "### 5A: Creating an Embeddor Set\n",
    "\n",
    "To create an embeddor set, we have provided the following function: \n",
    "\n",
    "```python\n",
    "stegtest.add_embeddor(embeddor_uuids, set_uuid)\n",
    "```\n",
    "\n",
    "This function will take in a list of embeddors and combine them to create an embeddor set. An embeddor set is essentially a UUID that represents a collection of one or more embeddors. The function takes the following parameters:\n",
    "- <b>embeddor_uuids</b>(list): This is a list of embeddor UUIDs that will be combined into a set. The UUIDs are retrieved via the info command.  \n",
    "- <b>set_uuid</b>(str): If this parameter is provided, the embeddors will be added to a pre-existing set. By default, it is set to None"
   ]
  },
  {
   "cell_type": "code",
   "execution_count": 2,
   "metadata": {},
   "outputs": [
    {
     "name": "stdout",
     "output_type": "stream",
     "text": [
      "Adding embeddors: ['ec586a69-be56-4eb6-936e-22ab175169c0', '6b55ba26-0701-485a-8057-3b756783915d']\n",
      "Added embeddor successfully\n",
      "The new UUID of the set you have created is: b749f021-a7e3-4251-ab69-283be67a48fb\n"
     ]
    }
   ],
   "source": [
    "LSBSteg_tool_uuid = 'ec586a69-be56-4eb6-936e-22ab175169c0' #This is retrieved from the info command\n",
    "SteganoLSB_tool_uuid = '6b55ba26-0701-485a-8057-3b756783915d' #This is retrived from the info command\n",
    "\n",
    "embeddor_uuids = [LSBSteg_tool_uuid, SteganoLSB_tool_uuid]\n",
    "\n",
    "embeddor_set_uuid = stegtest.add_embeddor(embeddor_uuids)"
   ]
  },
  {
   "cell_type": "markdown",
   "metadata": {},
   "source": [
    "### 5B: Creating a Detector Set\n",
    "\n",
    "To create a detector set, we have provided the following function: \n",
    "\n",
    "```python\n",
    "stegtest.add_detector(detector_uuid, set_uuid)\n",
    "```\n",
    "\n",
    "This function will take in a list of detectors and combine them to create a detector set. A detector set is essentially a UUID that represents a collection of one or more detectors. The function takes the following parameters:\n",
    "- <b>detector_uuids</b>(list): This is a list of detector UUIDs that will be combined into a set. The UUIDs are retrieved via the info command. \n",
    "- <b>set_uuid</b>(str): If this parameter is provided, the detectors will be added to a pre-existing set. By default, it is set to None."
   ]
  },
  {
   "cell_type": "code",
   "execution_count": 3,
   "metadata": {},
   "outputs": [
    {
     "name": "stdout",
     "output_type": "stream",
     "text": [
      "Adding detectors: ['dd52edf7-3730-4086-97ef-784f6e543b47', '6c371411-e632-4a37-8c02-71a9fac998f9']\n",
      "Added detector successfully\n",
      "The new UUID of the set you have created is: 811b04aa-c5a7-4f34-a80e-96a2f32c9a61\n"
     ]
    }
   ],
   "source": [
    "StegExpose_tool_uuid = 'dd52edf7-3730-4086-97ef-784f6e543b47' #This is retrieved from the info command\n",
    "YeNet_tool_uuid = '6c371411-e632-4a37-8c02-71a9fac998f9' #This is retrieved from the info command\n",
    "\n",
    "detector_uuids = [StegExpose_tool_uuid, YeNet_tool_uuid]\n",
    "\n",
    "detector_set_uuid = stegtest.add_detector(detector_uuids)"
   ]
  },
  {
   "cell_type": "markdown",
   "metadata": {},
   "source": [
    "## Step 6. Steganographic Database Generation\n",
    "\n",
    "To generate a steganographic database, we have provided the following function:\n",
    "\n",
    "```python\n",
    "stegtest.embed(embeddor_set_uuid, database_uuid, ratio, name)\n",
    "```\n",
    "\n",
    "The embed function takes the database_uuid to retrieve a list of database images. It then takes the embeddor_set_uuid to retrieve a list of embedding tools. Using the execution and command generation engines of StegTest, this function then generates a steganographic database with specified name and embedding ratio. The function takes the following parameters:\n",
    "- <b>embeddor_set_uuid</b>(str): The UUID of the embeddor set that you wantn to use. \n",
    "- <b>database_uuid</b>(str): The UUID of the datatabase that you want to embed.\n",
    "- <b>ratio</b>(float): The embedding ratio to use to generate the database. For spatial images, this is bits per pixel. For frequency images, this is bits per nonzero AC DC coefficient. \n",
    "- <b>name</b>(str): The name of the steganographic image that will be generated"
   ]
  },
  {
   "cell_type": "code",
   "execution_count": 6,
   "metadata": {},
   "outputs": [
    {
     "name": "stdout",
     "output_type": "stream",
     "text": [
      "generating commands...\n",
      "commands generated...\n",
      "setting up embeddors...\n"
     ]
    },
    {
     "name": "stderr",
     "output_type": "stream",
     "text": [
      "0it [00:00, ?it/s]\n",
      "  0%|          | 0/10 [00:00<?, ?it/s]"
     ]
    },
    {
     "name": "stdout",
     "output_type": "stream",
     "text": [
      "completed.\n",
      "embedding...\n"
     ]
    },
    {
     "name": "stderr",
     "output_type": "stream",
     "text": [
      "100%|██████████| 10/10 [00:06<00:00,  1.44it/s]\n",
      "100%|██████████| 10/10 [00:00<00:00, 438.56it/s]\n",
      "  0%|          | 0/2 [00:00<?, ?it/s]"
     ]
    },
    {
     "name": "stdout",
     "output_type": "stream",
     "text": [
      "completed.\n",
      "processing embeding results...\n",
      "completed.\n",
      "terminating processes...\n"
     ]
    },
    {
     "name": "stderr",
     "output_type": "stream",
     "text": [
      "100%|██████████| 2/2 [00:01<00:00,  1.08it/s]"
     ]
    },
    {
     "name": "stdout",
     "output_type": "stream",
     "text": [
      "completed.\n",
      "The UUID of the dataset you have created is: 6ec7f1e0-b22b-494d-854d-307ea4a923b2\n"
     ]
    },
    {
     "name": "stderr",
     "output_type": "stream",
     "text": [
      "\n"
     ]
    }
   ],
   "source": [
    "stego_db_uuid = stegtest.embed(embeddor_set_uuid, TOY_database_uuid, 0.5, 'STEGANOGRAPHIC DATABASE')"
   ]
  },
  {
   "cell_type": "markdown",
   "metadata": {},
   "source": [
    "## Step 7. Steganographic Database Verification\n",
    "\n",
    "To verify that a steganographic database has been generated correctly, we have provided the following function:\n",
    "\n",
    "```python\n",
    "stegtest.verify(stego_database_uuid)\n",
    "```\n",
    "\n",
    "The verification function extracts the message that was embedded inside the images of the steganographic database. It then verifies that the message extracted is the same as the message that was embedded. The function takes the following parameters:\n",
    "- <b>stego_database_uuid</b>(str): UUID of a generated steganographic database."
   ]
  },
  {
   "cell_type": "code",
   "execution_count": 7,
   "metadata": {},
   "outputs": [
    {
     "name": "stderr",
     "output_type": "stream",
     "text": [
      "0it [00:00, ?it/s]\n",
      "  0%|          | 0/10 [00:00<?, ?it/s]"
     ]
    },
    {
     "name": "stdout",
     "output_type": "stream",
     "text": [
      "running pre commands\n",
      "completed.\n",
      "running commands\n"
     ]
    },
    {
     "name": "stderr",
     "output_type": "stream",
     "text": [
      "100%|██████████| 10/10 [00:04<00:00,  2.46it/s]\n",
      "0it [00:00, ?it/s]\n",
      "  0%|          | 0/12 [00:00<?, ?it/s]"
     ]
    },
    {
     "name": "stdout",
     "output_type": "stream",
     "text": [
      "completed.\n",
      "running post commands.\n",
      "completed.\n",
      "terminating processes...\n"
     ]
    },
    {
     "name": "stderr",
     "output_type": "stream",
     "text": [
      "100%|██████████| 12/12 [00:00<00:00, 14.81it/s]"
     ]
    },
    {
     "name": "stdout",
     "output_type": "stream",
     "text": [
      "completed.\n",
      "Listing all verification results...\n",
      "----------------------------------------------------------------------------------------------------\n",
      "Specific Embeddor Results\n",
      "\tName: LSBSteg\n",
      "\tUUID: ec586a69-be56-4eb6-936e-22ab175169c0\n",
      "\t\tCorrectly Embedded (%): 100.0\n",
      "\t\tIncorrect Embedding (%): 0.0\n",
      "\tName: SteganoLSB\n",
      "\tUUID: 6b55ba26-0701-485a-8057-3b756783915d\n",
      "\t\tCorrectly Embedded (%): 100.0\n",
      "\t\tIncorrect Embedding (%): 0.0\n",
      "----------------------------------------------------------------------------------------------------\n",
      "Total Results\n",
      "\tCorrectly Embedded (%): 100.0\n",
      "\tIncorrect Embedding (%): 0.0\n"
     ]
    },
    {
     "name": "stderr",
     "output_type": "stream",
     "text": [
      "\n"
     ]
    }
   ],
   "source": [
    "stegtest.verify(stego_db_uuid)"
   ]
  },
  {
   "cell_type": "markdown",
   "metadata": {},
   "source": [
    "## Step 8. Testing out StegDetectors\n",
    "\n",
    "To analyze a steganographic database using the stegdetectors available in the system, we have provided the following function:\n",
    "\n",
    "```python\n",
    "stegtest.detect(detector_set_uuid, database_uuids)\n",
    "```\n",
    "\n",
    "The detect function takes a detector_set_uuid to retrieve a list of stegdetector tools. It then takes a list of database_uuids to retrieve a list of databases to test the stegdetector tools on. Once this is done, the execution and command generation engine use the configurations of each of the tools to test the database. The analyzer engine then reports the results. The function takes the following parameters:\n",
    "- <b>detector_set_uuid</b>(str): This is the UUID of the detector set that you want to analyze the databases with. \n",
    "- <b>database_uuids</b>(list): This is a list of database UUIDs that we want to check the detectors with. "
   ]
  },
  {
   "cell_type": "code",
   "execution_count": 8,
   "metadata": {},
   "outputs": [
    {
     "name": "stderr",
     "output_type": "stream",
     "text": [
      "0it [00:00, ?it/s]\n",
      "  0%|          | 0/11 [00:00<?, ?it/s]"
     ]
    },
    {
     "name": "stdout",
     "output_type": "stream",
     "text": [
      "collecting results from following databases: ['c38e7b4a-d537-4fc2-99f7-b9e63f7a9d2f', '6ec7f1e0-b22b-494d-854d-307ea4a923b2']\n",
      "setting up detectors...\n",
      "completed.\n",
      "analyzing images...\n"
     ]
    },
    {
     "name": "stderr",
     "output_type": "stream",
     "text": [
      "100%|██████████| 11/11 [00:28<00:00,  7.56s/it]\n",
      "  0%|          | 0/1 [00:00<?, ?it/s]"
     ]
    },
    {
     "name": "stdout",
     "output_type": "stream",
     "text": [
      "completed.\n",
      "processing image results...\n"
     ]
    },
    {
     "name": "stderr",
     "output_type": "stream",
     "text": [
      "100%|██████████| 1/1 [00:02<00:00,  2.11s/it]\n",
      "100%|██████████| 12/12 [00:00<00:00, 437.34it/s]\n",
      "0it [00:00, ?it/s]\n",
      "  0%|          | 0/11 [00:00<?, ?it/s]"
     ]
    },
    {
     "name": "stdout",
     "output_type": "stream",
     "text": [
      "completed.\n",
      "terminating processes...\n",
      "completed.\n",
      "setting up detectors...\n",
      "completed.\n",
      "analyzing images...\n"
     ]
    },
    {
     "name": "stderr",
     "output_type": "stream",
     "text": [
      "100%|██████████| 11/11 [00:24<00:00,  6.52s/it]\n",
      "  0%|          | 0/1 [00:00<?, ?it/s]"
     ]
    },
    {
     "name": "stdout",
     "output_type": "stream",
     "text": [
      "completed.\n",
      "processing image results...\n"
     ]
    },
    {
     "name": "stderr",
     "output_type": "stream",
     "text": [
      "100%|██████████| 1/1 [00:02<00:00,  2.06s/it]\n",
      "100%|██████████| 12/12 [00:00<00:00, 471.80it/s]"
     ]
    },
    {
     "name": "stdout",
     "output_type": "stream",
     "text": [
      "completed.\n",
      "terminating processes...\n",
      "completed.\n",
      "Experiment information\n",
      "----------------------------------------------------------------------------------------------------\n",
      "----------------------------------------------------------------------------------------------------\n",
      "Database Information\n",
      "\tUUID: c38e7b4a-d537-4fc2-99f7-b9e63f7a9d2f\n",
      "\t\tImage Types: ['png']\n",
      "----------------------------------------------------------------------------------------------------\n",
      "Database Information\n",
      "\tUUID: 6ec7f1e0-b22b-494d-854d-307ea4a923b2\n",
      "\t\tSource DB: c38e7b4a-d537-4fc2-99f7-b9e63f7a9d2f\n",
      "\t\tSource Embeddor Set: b749f021-a7e3-4251-ab69-283be67a48fb\n",
      "\t\tImage Types: ['png']\n",
      "\t\tPayload: 0.5\n",
      "----------------------------------------------------------------------------------------------------\n",
      "Embeddor Set Information\n",
      "\tUUID: b749f021-a7e3-4251-ab69-283be67a48fb\n",
      "\t\tCompatible Types: {'png'}\n",
      "\t\tEmbeddors: 2\n",
      "\t\t\t(LSBSteg, ec586a69-be56-4eb6-936e-22ab175169c0)\n",
      "\t\t\t(SteganoLSB, 6b55ba26-0701-485a-8057-3b756783915d)\n",
      "----------------------------------------------------------------------------------------------------\n",
      "----------------------------------------------------------------------------------------------------\n",
      "Listing all results...\n",
      "----------------------------------------------------------------------------------------------------\n",
      "\tName: YeNet\n",
      "\tDetector Type: binary\n",
      "\tUUID: 6c371411-e632-4a37-8c02-71a9fac998f9\n",
      "\tRaw Results:\n",
      "\t\t(10/10) stego images identified correctly\n",
      "\t\t(7/10) cover images identified correctly\n",
      "\t\t(17/20) total images identified correctly\n",
      "\tMetrics:\n",
      "\t\tfalse positive rate: 0.30000000000000004\n",
      "\t\tfalse negative rate: 0.0\n",
      "\t\ttrue negative rate: 0.7\n",
      "\t\tnegative predictive value: 1.0\n",
      "\t\tfalse discovery rate: 0.23076923076923073\n",
      "\t\ttrue positive rate: 1.0\n",
      "\t\tpositive predictive value: 0.7692307692307693\n",
      "\t\taccuracy: 0.85\n",
      "----------------------------------------------------------------------------------------------------\n",
      "\tName: stegexpose\n",
      "\tDetector Type: binary\n",
      "\tUUID: dd52edf7-3730-4086-97ef-784f6e543b47\n",
      "\tRaw Results:\n",
      "\t\t(10/10) stego images identified correctly\n",
      "\t\t(10/10) cover images identified correctly\n",
      "\t\t(20/20) total images identified correctly\n",
      "\tMetrics:\n",
      "\t\tfalse positive rate: 0.0\n",
      "\t\tfalse negative rate: 0.0\n",
      "\t\ttrue negative rate: 1.0\n",
      "\t\tnegative predictive value: 1.0\n",
      "\t\tfalse discovery rate: 0.0\n",
      "\t\ttrue positive rate: 1.0\n",
      "\t\tpositive predictive value: 1.0\n",
      "\t\taccuracy: 1.0\n",
      "----------------------------------------------------------------------------------------------------\n",
      "----------------------------------------------------------------------------------------------------\n",
      "All results printed.\n"
     ]
    },
    {
     "name": "stderr",
     "output_type": "stream",
     "text": [
      "\n"
     ]
    }
   ],
   "source": [
    "database_uuids = [TOY_database_uuid, stego_db_uuid]\n",
    "stegtest.detect(detector_set_uuid, database_uuids)"
   ]
  },
  {
   "cell_type": "code",
   "execution_count": null,
   "metadata": {},
   "outputs": [],
   "source": []
  }
 ],
 "metadata": {
  "kernelspec": {
   "display_name": "Python 3",
   "language": "python",
   "name": "python3"
  },
  "language_info": {
   "codemirror_mode": {
    "name": "ipython",
    "version": 3
   },
   "file_extension": ".py",
   "mimetype": "text/x-python",
   "name": "python",
   "nbconvert_exporter": "python",
   "pygments_lexer": "ipython3",
   "version": "3.6.4"
  }
 },
 "nbformat": 4,
 "nbformat_minor": 2
}
